{
  "nbformat": 4,
  "nbformat_minor": 0,
  "metadata": {
    "colab": {
      "name": "KNN.ipynb",
      "provenance": [],
      "authorship_tag": "ABX9TyPb8d2Pepsq5VSUMGyKU2Ae",
      "include_colab_link": true
    },
    "kernelspec": {
      "name": "python3",
      "display_name": "Python 3"
    },
    "language_info": {
      "name": "python"
    }
  },
  "cells": [
    {
      "cell_type": "markdown",
      "metadata": {
        "id": "view-in-github",
        "colab_type": "text"
      },
      "source": [
        "<a href=\"https://colab.research.google.com/github/peterpanw/Machine_learning/blob/main/KNN.ipynb\" target=\"_parent\"><img src=\"https://colab.research.google.com/assets/colab-badge.svg\" alt=\"Open In Colab\"/></a>"
      ]
    },
    {
      "cell_type": "code",
      "metadata": {
        "id": "9Gdwr6EDEFCC"
      },
      "source": [
        "import numpy as np #对iris数据集进行训练分类\n",
        "from sklearn import  datasets\n",
        "from sklearn.model_selection import  train_test_split\n",
        "from sklearn.metrics import  classification_report,confusion_matrix #对模型分类结果进行评估的两个模型\n",
        "import operator  #https://blog.csdn.net/u010339879/article/details/98304292，关于operator的使用\n",
        "import random"
      ],
      "execution_count": null,
      "outputs": []
    },
    {
      "cell_type": "code",
      "metadata": {
        "id": "A5rl2cayEf_d"
      },
      "source": [
        "def knn(x_test, x_data, y_data, k):\n",
        "  x_data_size = x_data.shape[0]  # 计算样本数量\n",
        "  diffMat = np.tile(x_test,(x_data_size,1)) - x_data# 复制x_test，计算x_test与每一个样本的差值\n",
        "  sqDiffMat = diffMat**2# # 计算差值的平方\n",
        "  sqDistance = sqDiffMat.sum(axis= 1) # 求和\n",
        "  distances = sqDistance**0.5 # 开方\n",
        "  sortedDistance = distances.argsort()# 从小到大排序\n",
        "  classCount = {}\n",
        "  for i in range(k):\n",
        "    vlabel = y_data[sortedDistance[i]] # 获取标签\n",
        "    classCount[vlabel] = classCount.get(vlabel,0)+1# 统计标签数量\n",
        "  sortedClassCount = sorted(classCount.items(),key = operator.itemgetter(1), reverse = True) # 根据operator.itemgetter(1)-第1个值对classCount排序，然后再取倒序\n",
        "  return sortedClassCount[0][0]"
      ],
      "execution_count": null,
      "outputs": []
    },
    {
      "cell_type": "code",
      "metadata": {
        "id": "-lrtVhCAE8Kq"
      },
      "source": [
        " iris = datasets.load_iris()# 载入数据\n",
        " x_train,x_test,y_train,y_test = train_test_split(iris.data, iris.target, test_size=0.3)"
      ],
      "execution_count": null,
      "outputs": []
    },
    {
      "cell_type": "code",
      "metadata": {
        "colab": {
          "base_uri": "https://localhost:8080/"
        },
        "id": "xUjrR7JhE-pE",
        "outputId": "416b9f4b-266b-4dad-a5cb-10b9b10fb2ff"
      },
      "source": [
        "prodictions = []\n",
        "for i in range(x_test.shape[0]):\n",
        "   prodictions.append(knn(x_test[i],x_train,y_train,5))\n",
        "print(prodictions)"
      ],
      "execution_count": null,
      "outputs": [
        {
          "output_type": "stream",
          "name": "stdout",
          "text": [
            "[0, 2, 1, 0, 2, 1, 1, 2, 2, 0, 1, 2, 0, 2, 0, 2, 1, 2, 1, 1, 1, 0, 0, 2, 0, 1, 2, 1, 2, 2, 0, 2, 1, 0, 1, 0, 1, 0, 1, 1, 0, 2, 2, 1, 1]\n"
          ]
        }
      ]
    },
    {
      "cell_type": "code",
      "metadata": {
        "colab": {
          "base_uri": "https://localhost:8080/"
        },
        "id": "ux8Owo0uFMdP",
        "outputId": "f0258f21-0244-4e28-b5ad-7b2282250996"
      },
      "source": [
        "print(classification_report(y_test, prodictions))"
      ],
      "execution_count": null,
      "outputs": [
        {
          "output_type": "stream",
          "name": "stdout",
          "text": [
            "              precision    recall  f1-score   support\n",
            "\n",
            "           0       1.00      1.00      1.00        13\n",
            "           1       0.88      0.94      0.91        16\n",
            "           2       0.93      0.88      0.90        16\n",
            "\n",
            "    accuracy                           0.93        45\n",
            "   macro avg       0.94      0.94      0.94        45\n",
            "weighted avg       0.93      0.93      0.93        45\n",
            "\n"
          ]
        }
      ]
    },
    {
      "cell_type": "code",
      "metadata": {
        "id": "Z-qzHxdVFWPz",
        "colab": {
          "base_uri": "https://localhost:8080/"
        },
        "outputId": "730c908a-f984-4efe-c275-220c975aa593"
      },
      "source": [
        "print(confusion_matrix(y_test,prodictions))"
      ],
      "execution_count": null,
      "outputs": [
        {
          "output_type": "stream",
          "name": "stdout",
          "text": [
            "[[13  0  0]\n",
            " [ 0 15  1]\n",
            " [ 0  2 14]]\n"
          ]
        }
      ]
    },
    {
      "cell_type": "markdown",
      "metadata": {
        "id": "bUeLyhepYsQC"
      },
      "source": [
        "这个混淆矩阵意味着，有全部13个实际为类0的被预测为类0；16个实际为类1当中15个被正确预测为类1，1个被预测为类2；16个实际为类2当中14个被正确预测为类2,2个被预测为类1。"
      ]
    },
    {
      "cell_type": "code",
      "metadata": {
        "id": "-xnqfz1UFXKi"
      },
      "source": [
        ""
      ],
      "execution_count": null,
      "outputs": []
    }
  ]
}